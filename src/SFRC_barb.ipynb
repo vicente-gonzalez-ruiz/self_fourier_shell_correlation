{
 "cells": [
  {
   "cell_type": "code",
   "execution_count": null,
   "id": "a7ca4c3c-bae9-4612-b1fd-d963b3835529",
   "metadata": {},
   "outputs": [],
   "source": [
    "import time\n",
    "from collections import namedtuple\n",
    "try:\n",
    "    from skimage import io as skimage_io\n",
    "except:\n",
    "    !pip install scikit-image\n",
    "    from skimage import io as skimage_io\n",
    "from self_fourier_shell_correlation import fsc_utils as fsc\n",
    "import numpy as np\n",
    "import matplotlib.pyplot as plt"
   ]
  },
  {
   "cell_type": "code",
   "execution_count": null,
   "id": "bafb498d-a59d-47e6-85fd-92ec6c0b38a7",
   "metadata": {},
   "outputs": [],
   "source": [
    "Args = namedtuple(\"args\", \"input\")\n",
    "#args = Args(\"http://www.hpca.ual.es/~vruiz/images/barb.png\")\n",
    "#args = Args(\"http://www.hpca.ual.es/~vruiz/images/zelda.png\")\n",
    "#args = Args(\"http://www.hpca.ual.es/~vruiz/images/boats.png\")\n",
    "args = Args(\"http://www.hpca.ual.es/~vruiz/images/cameraman.png\")\n",
    "args = Args(\"http://www.hpca.ual.es/~vruiz/images/couple.png\")\n",
    "args = Args(\"http://www.hpca.ual.es/~vruiz/images/crowd.png\")\n",
    "args = Args(\"http://www.hpca.ual.es/~vruiz/images/house.png\")\n",
    "args = Args(\"http://www.hpca.ual.es/~vruiz/images/lena_512x512_gray.png\")\n",
    "args = Args(\"http://www.hpca.ual.es/~vruiz/images/mandrill.png\")\n",
    "args = Args(\"http://www.hpca.ual.es/~vruiz/images/vacas.png\")\n",
    "args = Args(\"http://www.hpca.ual.es/~vruiz/images/woman1.png\")\n",
    "args = Args(\"http://www.hpca.ual.es/~vruiz/images/woman_darkhair.png\")\n",
    "args = Args(\"http://www.hpca.ual.es/~vruiz/images/lake.png\")\n",
    "\n",
    "#args = Args(\"barb.png\")"
   ]
  },
  {
   "cell_type": "code",
   "execution_count": null,
   "id": "737b38ba-3d36-463d-9d16-8d4c7d0cb906",
   "metadata": {},
   "outputs": [],
   "source": [
    "x = skimage_io.imread(args.input)  # Ground Truth"
   ]
  },
  {
   "cell_type": "code",
   "execution_count": null,
   "id": "f6d815ca-31d2-4c42-963a-c24980bb981a",
   "metadata": {},
   "outputs": [],
   "source": [
    "r = x.shape[0] // 2\n",
    "voxel = 1\n",
    "freq = fsc.get_radial_spatial_frequencies(x, voxel, mode='full')\n",
    "sfsc = np.mean(fsc.single_image_frc(x, r), axis=0)\n",
    "sfsc_adjusted = 2*sfsc / (1 + sfsc)\n",
    "_, c_avg = fsc.get_SFRC_curve(x)"
   ]
  },
  {
   "cell_type": "code",
   "execution_count": null,
   "id": "3c4248f9-9d46-423e-87fa-a254f6c0c8fb",
   "metadata": {},
   "outputs": [],
   "source": [
    "cmap_a = [plt.get_cmap('tab20c').colors[idx] for idx in [0, 4, 8, 12]]\n",
    "cmap_b = [plt.get_cmap('tab20c').colors[idx] for idx in [2, 6, 10, 12]]\n",
    "plt.figure(figsize=(5,4))\n",
    "plt.plot(freq, sfsc, linewidth=2, label='SFSC')\n",
    "plt.plot(freq, sfsc_adjusted, linewidth=2, label='SFSC (adjusted)')\n",
    "plt.plot(freq, c_avg, linewidth=1, label='?')\n",
    "plt.rc('axes', labelsize=12)\n",
    "plt.rc('xtick', labelsize=10)\n",
    "plt.rc('ytick', labelsize=10)\n",
    "plt.rc('legend', fontsize=10)\n",
    "plt.grid(which='major', linestyle='--')\n",
    "plt.xlabel('spatial frequency 'r'(${\\AA}^{-1}$)', labelpad=-1.5)\n",
    "plt.title('Fourier shell correlation')\n",
    "plt.legend(loc='lower left')\n",
    "# plt.savefig('')\n",
    "plt.show()"
   ]
  },
  {
   "cell_type": "code",
   "execution_count": null,
   "id": "546e14c7-e892-45ca-bdc6-4e709345e59c",
   "metadata": {},
   "outputs": [],
   "source": []
  }
 ],
 "metadata": {
  "kernelspec": {
   "display_name": "Python 3 (ipykernel)",
   "language": "python",
   "name": "python3"
  },
  "language_info": {
   "codemirror_mode": {
    "name": "ipython",
    "version": 3
   },
   "file_extension": ".py",
   "mimetype": "text/x-python",
   "name": "python",
   "nbconvert_exporter": "python",
   "pygments_lexer": "ipython3",
   "version": "3.12.2"
  }
 },
 "nbformat": 4,
 "nbformat_minor": 5
}
