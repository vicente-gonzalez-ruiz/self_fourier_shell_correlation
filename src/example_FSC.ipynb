{
 "cells": [
  {
   "cell_type": "markdown",
   "id": "d705e691-278f-4f13-9df1-dbb43343200d",
   "metadata": {},
   "source": [
    "# FSC(even, odd)\n",
    "    even = vol[0::2, ...] \n",
    "    odd = vol[1::2, ...]"
   ]
  },
  {
   "cell_type": "code",
   "execution_count": null,
   "id": "2df55d00-e5d6-49c6-95ee-c12aaf55a4e6",
   "metadata": {},
   "outputs": [],
   "source": [
    "try:\n",
    "    import numpy as np\n",
    "except:\n",
    "    !pip install numpy\n",
    "    import numpy as np\n",
    "try:\n",
    "    import mrcfile\n",
    "except:\n",
    "    !pip install mrcfile\n",
    "    import mrcfile\n",
    "try:\n",
    "    from scipy.fft import fftn\n",
    "except:\n",
    "    !pip install scipy\n",
    "    from scipy.fft import fftn\n",
    "try:\n",
    "    import matplotlib.pyplot as plt\n",
    "except:\n",
    "    !pip install matplotlib\n",
    "    import matplotlib.pyplot as plt"
   ]
  },
  {
   "cell_type": "code",
   "execution_count": null,
   "id": "38116a74-0515-48da-85f7-58a1b9720459",
   "metadata": {},
   "outputs": [],
   "source": [
    "#!pip install \"self_fourier_shell_correlation @ git+https://github.com/vicente-gonzalez-ruiz/self_fourier_shell_correlation\""
   ]
  },
  {
   "cell_type": "code",
   "execution_count": null,
   "id": "8f74657c-1a1f-4de8-b036-78cd301c817e",
   "metadata": {},
   "outputs": [],
   "source": [
    "from self_fourier_shell_correlation import fsc_utils as fsc"
   ]
  },
  {
   "cell_type": "code",
   "execution_count": null,
   "id": "3217e7b6-2a34-40b5-bcd2-ae27c8acd412",
   "metadata": {},
   "outputs": [],
   "source": [
    "!wget \"https://dali.hpca.ual.es/~vruiz/vols/Corbel2301_block2_June2019_crop_ali_crop.mrc\" -O /tmp/corbel.mrc\n",
    "# cp /nas/vruiz/cryoCARE/corbel_small/Corbel2301_block2_June2019_crop_ali_crop.mrc /tmp/corbel.mrc"
   ]
  },
  {
   "cell_type": "code",
   "execution_count": null,
   "id": "41d7e390-40b0-4d81-a610-62f2295040bd",
   "metadata": {},
   "outputs": [],
   "source": [
    "vol = mrcfile.read(\"/tmp/corbel.mrc\")"
   ]
  },
  {
   "cell_type": "code",
   "execution_count": null,
   "id": "6b1cb747-45bd-40ff-bcd8-f28bcefb5532",
   "metadata": {},
   "outputs": [],
   "source": [
    "even = vol[0::2, ...] \n",
    "odd = vol[1::2, ...]"
   ]
  },
  {
   "cell_type": "code",
   "execution_count": null,
   "id": "8782c0e5-37a1-4ce0-b027-4c4864368d4c",
   "metadata": {},
   "outputs": [],
   "source": [
    "spatial_freq, fsc_values = fsc.fourier_shell_correlation(even, odd, shell_thickness=0.01)"
   ]
  },
  {
   "cell_type": "code",
   "execution_count": null,
   "id": "fe53da72-ef1c-4d03-81ee-baced6974375",
   "metadata": {},
   "outputs": [],
   "source": [
    "fsc.plot_fsc(spatial_freq, fsc_values, \"Spatial Frequency (1/voxel units)\", \"FSC\", \"FSC(even, odd)\")"
   ]
  }
 ],
 "metadata": {
  "kernelspec": {
   "display_name": "cryoCARE",
   "language": "python",
   "name": "cryocare"
  },
  "language_info": {
   "codemirror_mode": {
    "name": "ipython",
    "version": 3
   },
   "file_extension": ".py",
   "mimetype": "text/x-python",
   "name": "python",
   "nbconvert_exporter": "python",
   "pygments_lexer": "ipython3",
   "version": "3.8.19"
  }
 },
 "nbformat": 4,
 "nbformat_minor": 5
}
