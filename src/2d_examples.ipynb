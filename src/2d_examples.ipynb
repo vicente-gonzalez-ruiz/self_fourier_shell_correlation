{
 "cells": [
  {
   "cell_type": "markdown",
   "metadata": {
    "editable": true,
    "id": "QqfKxC0KuCzK",
    "slideshow": {
     "slide_type": ""
    },
    "tags": []
   },
   "source": [
    "# 2D examples"
   ]
  },
  {
   "cell_type": "code",
   "execution_count": null,
   "metadata": {
    "id": "IIUxh4uStrQJ"
   },
   "outputs": [],
   "source": [
    "import time\n",
    "from collections import namedtuple\n",
    "\n",
    "try:\n",
    "    import numpy as np\n",
    "except:\n",
    "    !pip install numpy\n",
    "    import numpy as np\n",
    "\n",
    "import scipy.ndimage\n",
    "\n",
    "try:\n",
    "    import matplotlib\n",
    "    import matplotlib.pyplot as plt\n",
    "    import matplotlib.ticker as mticker\n",
    "except:\n",
    "    !pip install matplotlib\n",
    "    import matplotlib\n",
    "    import matplotlib.pyplot as plt\n",
    "    import matplotlib.ticker as mticker\n",
    "\n",
    "try:\n",
    "    from skimage import io as skimage_io\n",
    "except:\n",
    "    !pip install scikit-image\n",
    "    from skimage import io as skimage_io\n"
   ]
  },
  {
   "cell_type": "code",
   "execution_count": null,
   "metadata": {},
   "outputs": [],
   "source": [
    "try:\n",
    "    from self_fourier_shell_correlation import fsc_utils as fsc\n",
    "except:\n",
    "    !pip install \"self_fourier_shell_correlation @ git+https://github.com/vicente-gonzalez-ruiz/self_fourier_shell_correlation\"\n",
    "    from self_fourier_shell_correlation import fsc_utils as fsc"
   ]
  },
  {
   "cell_type": "code",
   "execution_count": null,
   "metadata": {},
   "outputs": [],
   "source": [
    "#import shuffling\n",
    "from shuffling import image as image_shuffling\n",
    "\n",
    "def get_SFRC_curve(image):\n",
    "    '''Random shuffling'''\n",
    "    r = image.shape[0]//2\n",
    "\n",
    "    acc = np.zeros(r)\n",
    "    for i in range(10):\n",
    "        c1 = image_shuffling.randomize_and_project(image, std_dev=3, sigma_poly=1.2, window_side=5)\n",
    "        c2 = image_shuffling.randomize_and_project(image, std_dev=3, sigma_poly=1.2, window_side=5)\n",
    "        curve = fsc.two_image_frc(c1, c2, r)\n",
    "        acc += curve\n",
    "\n",
    "    c_avg = acc/(i+1)\n",
    "    #c_avg = 2*c_avg / (1 + c_avg)\n",
    "    freq = fsc.get_radial_spatial_frequencies(image, 1)\n",
    "\n",
    "    return freq, c_avg"
   ]
  },
  {
   "cell_type": "code",
   "execution_count": null,
   "metadata": {},
   "outputs": [],
   "source": [
    "def run(X):\n",
    "    freq1, c_avg1 = fsc.get_SFRC_curve(X)\n",
    "    freq2, c_avg2 = get_SFRC_curve(X)\n",
    "    plt.plot(freq1, c_avg1)\n",
    "    plt.plot(freq2, c_avg2)"
   ]
  },
  {
   "cell_type": "code",
   "execution_count": null,
   "metadata": {},
   "outputs": [],
   "source": [
    "Args = namedtuple(\"args\", [\"X\"])\n",
    "args = Args(\"http://www.hpca.ual.es/~vruiz/images/barb.png\")\n",
    "X = skimage_io.imread(args.X)\n",
    "run(X)"
   ]
  },
  {
   "cell_type": "code",
   "execution_count": null,
   "metadata": {},
   "outputs": [],
   "source": [
    "Args = namedtuple(\"args\", [\"X\"])\n",
    "args = Args(\"http://www.hpca.ual.es/~vruiz/images/boats.png\")\n",
    "X = skimage_io.imread(args.X)\n",
    "run(X)"
   ]
  },
  {
   "cell_type": "code",
   "execution_count": null,
   "metadata": {},
   "outputs": [],
   "source": [
    "Args = namedtuple(\"args\", [\"X\"])\n",
    "args = Args(\"http://www.hpca.ual.es/~vruiz/images/zelda.png\")\n",
    "X = skimage_io.imread(args.X)\n",
    "run(X)"
   ]
  },
  {
   "cell_type": "code",
   "execution_count": null,
   "metadata": {},
   "outputs": [],
   "source": [
    "Args = namedtuple(\"args\", [\"X\"])\n",
    "args = Args(\"http://www.hpca.ual.es/~vruiz/images/mandrill.png\")\n",
    "X = skimage_io.imread(args.X)\n",
    "run(X)"
   ]
  },
  {
   "cell_type": "code",
   "execution_count": null,
   "metadata": {},
   "outputs": [],
   "source": [
    "Args = namedtuple(\"args\", [\"X\"])\n",
    "args = Args(\"http://www.hpca.ual.es/~vruiz/images/cameraman.png\")\n",
    "X = skimage_io.imread(args.X)\n",
    "run(X)"
   ]
  },
  {
   "cell_type": "code",
   "execution_count": null,
   "metadata": {
    "scrolled": true
   },
   "outputs": [],
   "source": [
    "Args = namedtuple(\"args\", [\"X\"])\n",
    "args = Args(\"http://www.hpca.ual.es/~vruiz/images/crowd.png\")\n",
    "X = skimage_io.imread(args.X)\n",
    "run(X)"
   ]
  },
  {
   "cell_type": "code",
   "execution_count": null,
   "metadata": {
    "scrolled": true
   },
   "outputs": [],
   "source": [
    "Args = namedtuple(\"args\", [\"X\"])\n",
    "args = Args(\"http://www.hpca.ual.es/~vruiz/images/fear.png\")\n",
    "X = skimage_io.imread(args.X)\n",
    "run(X)"
   ]
  },
  {
   "cell_type": "code",
   "execution_count": null,
   "metadata": {},
   "outputs": [],
   "source": [
    "Args = namedtuple(\"args\", [\"X\"])\n",
    "args = Args(\"http://www.hpca.ual.es/~vruiz/images/fingerprint_512x512_gray.png\")\n",
    "X = skimage_io.imread(args.X)\n",
    "run(X)"
   ]
  },
  {
   "cell_type": "code",
   "execution_count": null,
   "metadata": {},
   "outputs": [],
   "source": [
    "Args = namedtuple(\"args\", [\"X\"])\n",
    "args = Args(\"http://www.hpca.ual.es/~vruiz/images/lena_512x512_gray.png\")\n",
    "X = skimage_io.imread(args.X)\n",
    "run(X)"
   ]
  }
 ],
 "metadata": {
  "colab": {
   "collapsed_sections": [],
   "name": "gaussian_denoising.ipynb",
   "provenance": []
  },
  "kernelspec": {
   "display_name": "Python 3 (ipykernel)",
   "language": "python",
   "name": "python3"
  },
  "language_info": {
   "codemirror_mode": {
    "name": "ipython",
    "version": 3
   },
   "file_extension": ".py",
   "mimetype": "text/x-python",
   "name": "python",
   "nbconvert_exporter": "python",
   "pygments_lexer": "ipython3",
   "version": "3.12.2"
  }
 },
 "nbformat": 4,
 "nbformat_minor": 4
}
