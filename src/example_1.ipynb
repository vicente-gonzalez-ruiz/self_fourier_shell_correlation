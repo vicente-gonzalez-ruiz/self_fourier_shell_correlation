{
 "cells": [
  {
   "cell_type": "markdown",
   "id": "d705e691-278f-4f13-9df1-dbb43343200d",
   "metadata": {},
   "source": [
    "# Optimization RSVD parameters (except the number of iterations)"
   ]
  },
  {
   "cell_type": "code",
   "execution_count": null,
   "id": "2df55d00-e5d6-49c6-95ee-c12aaf55a4e6",
   "metadata": {},
   "outputs": [],
   "source": [
    "import numpy as np\n",
    "import mrcfile\n",
    "from scipy.fft import fftn\n",
    "import matplotlib.pyplot as plt"
   ]
  },
  {
   "cell_type": "code",
   "execution_count": null,
   "id": "38116a74-0515-48da-85f7-58a1b9720459",
   "metadata": {},
   "outputs": [],
   "source": [
    "!pip install \"self_fourier_shell_correlation @ git+https://github.com/vicente-gonzalez-ruiz/self_fourier_shell_correlation\""
   ]
  },
  {
   "cell_type": "code",
   "execution_count": null,
   "id": "8f74657c-1a1f-4de8-b036-78cd301c817e",
   "metadata": {},
   "outputs": [],
   "source": [
    "from self_fourier_shell_correlation import fsc_utils as fsc"
   ]
  },
  {
   "cell_type": "code",
   "execution_count": null,
   "id": "a88166cf-b951-430c-94c9-38ffb209a0f3",
   "metadata": {},
   "outputs": [],
   "source": [
    "def split_volume(volume):\n",
    "    \"\"\"\n",
    "    Split the volume into two independent half-volumes by dividing the data randomly.\n",
    "    \"\"\"\n",
    "    mask = np.random.randint(0, 2, volume.shape, dtype=bool)\n",
    "    volume1 = np.where(mask, volume, 0)\n",
    "    volume2 = np.where(~mask, volume, 0)\n",
    "    return volume1, volume2\n",
    "\n",
    "def compute_spatial_frequencies(shape):\n",
    "    \"\"\"\n",
    "    Compute the spatial frequency grid for a volume of arbitrary shape.\n",
    "    \n",
    "    Args:\n",
    "        shape: Tuple representing the shape of the volume (nx, ny, nz).\n",
    "        \n",
    "    Returns:\n",
    "        freq_radii: A 3D array where each element represents the spatial frequency radius at that point.\n",
    "    \"\"\"\n",
    "    freq_x = np.fft.fftfreq(shape[0])\n",
    "    freq_y = np.fft.fftfreq(shape[1])\n",
    "    freq_z = np.fft.fftfreq(shape[2])\n",
    "\n",
    "    freq_x, freq_y, freq_z = np.meshgrid(freq_x, freq_y, freq_z, indexing='ij')\n",
    "\n",
    "    freq_radii = np.sqrt(freq_x**2 + freq_y**2 + freq_z**2)\n",
    "\n",
    "    return freq_radii\n",
    "\n",
    "def fourier_shell_correlation(volume1, volume2, shell_thickness=1):\n",
    "    \"\"\"\n",
    "    Compute the Fourier Shell Correlation (FSC) between two volumes of arbitrary shape.\n",
    "    Args:\n",
    "        volume1, volume2: Two 3D volumes to compare\n",
    "        shell_thickness: Thickness of Fourier shells in frequency units\n",
    "    Returns:\n",
    "        spatial_freq: Array of spatial frequencies (1/voxel units)\n",
    "        fsc_values: Array of FSC values at each spatial frequency\n",
    "    \"\"\"\n",
    "    # Fourier transforms of both volumes (in double precision and normalized)\n",
    "    fft1 = fftn(volume1).astype(np.complex128) / np.sqrt(np.prod(volume1.shape))\n",
    "    fft2 = fftn(volume2).astype(np.complex128) / np.sqrt(np.prod(volume2.shape))\n",
    "\n",
    "    # Compute spatial frequency grid based on the volume shape\n",
    "    freq_radii = compute_spatial_frequencies(volume1.shape)\n",
    "\n",
    "    max_radius = np.max(freq_radii)\n",
    "    shell_indices = np.arange(0, max_radius, shell_thickness)\n",
    "\n",
    "    fsc_values = []\n",
    "    spatial_freq = []\n",
    "\n",
    "    for r in shell_indices:\n",
    "        shell_mask = (freq_radii >= r) & (freq_radii < r + shell_thickness)\n",
    "        \n",
    "        # Numerator and denominator of the FSC\n",
    "        num = np.sum(fft1[shell_mask] * np.conj(fft2[shell_mask]))\n",
    "        denom = np.sqrt(np.sum(np.abs(fft1[shell_mask])**2) * np.sum(np.abs(fft2[shell_mask])**2))\n",
    "        \n",
    "        # Handle potential division by zero\n",
    "        fsc_value = np.abs(num) / denom if denom != 0 else 0\n",
    "        fsc_values.append(fsc_value)\n",
    "        spatial_freq.append(r)\n",
    "\n",
    "    return np.array(spatial_freq), np.array(fsc_values)\n",
    "\n",
    "def plot_fsc(spatial_freq, fsc_values):\n",
    "    \"\"\"\n",
    "    Plot the Fourier Shell Correlation (FSC) curve.\n",
    "    \"\"\"\n",
    "    plt.plot(spatial_freq, fsc_values, label='FSC')\n",
    "    plt.axhline(y=0.143, color='r', linestyle='--', label='0.143 threshold')\n",
    "    plt.axhline(y=0.5, color='g', linestyle='--', label='0.5 threshold')\n",
    "    plt.xlabel('Spatial Frequency (1/voxel units)')\n",
    "    plt.ylabel('FSC')\n",
    "    plt.title('Fourier Shell Correlation (FSC)')\n",
    "    plt.legend()\n",
    "    plt.show()"
   ]
  },
  {
   "cell_type": "code",
   "execution_count": null,
   "id": "b3714578-7a95-40b5-aa40-e4fbba3c172c",
   "metadata": {},
   "outputs": [],
   "source": [
    "vol_name = \"Corbel2301_block2_June2019_crop_june2024_ali_crop.mrc\"\n",
    "#vol_name=\"epfl1_subset1_float.mrc\"\n",
    "#vol_name=\"small_vol.mrc\"\n",
    "with mrcfile.open(vol_name, permissive=True) as mrc:\n",
    "    volume = mrc.data"
   ]
  },
  {
   "cell_type": "code",
   "execution_count": null,
   "id": "8fc53479-d59f-4da9-8308-921b28298541",
   "metadata": {},
   "outputs": [],
   "source": [
    "print(volume.shape)"
   ]
  },
  {
   "cell_type": "code",
   "execution_count": null,
   "id": "523e2244-8081-4fd1-a244-9c7f394a5db1",
   "metadata": {},
   "outputs": [],
   "source": [
    "half_volume1, half_volume2 = split_volume(volume)"
   ]
  },
  {
   "cell_type": "code",
   "execution_count": null,
   "id": "d9af509f-65ad-4a0d-bcdd-2b8ba4f81d19",
   "metadata": {},
   "outputs": [],
   "source": [
    "print(half_volume1.shape, half_volume2.shape)"
   ]
  },
  {
   "cell_type": "code",
   "execution_count": null,
   "id": "2b980191-5d0b-475d-84a0-00c053297afe",
   "metadata": {},
   "outputs": [],
   "source": [
    "spatial_freq, fsc_values = fourier_shell_correlation(half_volume1, half_volume2, shell_thickness=0.1)"
   ]
  },
  {
   "cell_type": "code",
   "execution_count": null,
   "id": "2a858b29-0d81-40cc-a9fa-c1badb021e62",
   "metadata": {},
   "outputs": [],
   "source": [
    "plot_fsc(spatial_freq, fsc_values)"
   ]
  },
  {
   "cell_type": "code",
   "execution_count": null,
   "id": "57ed8a25-59a7-43d5-834b-985f211a7693",
   "metadata": {},
   "outputs": [],
   "source": [
    "fsc_values"
   ]
  },
  {
   "cell_type": "code",
   "execution_count": null,
   "id": "35619601-4a26-4dad-be53-066ec9557b1f",
   "metadata": {},
   "outputs": [],
   "source": [
    "y1 = volume\n",
    "s1 = y1[:, :, ::2]\n",
    "s2 = y1[:, :, 1::2]\n",
    "S2 = fsc.phase_shift_3d(np.fft.fftshift(np.fft.fftn(s2)), 0.5, 0, 0)\n",
    "s2_shift = np.fft.ifftn(np.fft.ifftshift(S2)).real\n",
    "\n",
    "s3 = y1[:, ::2, :]\n",
    "s4 = y1[:, 1::2, :]\n",
    "S4 = fsc.phase_shift_3d(np.fft.fftshift(np.fft.fftn(s4)), 0, 0.5, 0)\n",
    "s4_shift = np.fft.ifftn(np.fft.ifftshift(S4)).real\n",
    "\n",
    "s5 = y1[::2, :, :]\n",
    "s6 = y1[1::2, :, :]\n",
    "S6 = fsc.phase_shift_3d(np.fft.fftshift(np.fft.fftn(s6)), 0, 0, 0.5)\n",
    "s6_shift = np.fft.ifftn(np.fft.ifftshift(S6)).real"
   ]
  },
  {
   "cell_type": "code",
   "execution_count": null,
   "id": "c77874c1-933d-4885-85fc-ba650834909b",
   "metadata": {},
   "outputs": [],
   "source": [
    "r = volume.shape[0]//2"
   ]
  },
  {
   "cell_type": "code",
   "execution_count": null,
   "id": "96d44ae9-d472-4907-b105-45ce73343c81",
   "metadata": {},
   "outputs": [],
   "source": [
    "c1 = fsc.two_volume_fsc(s1, s2_shift, r)\n",
    "c2 = fsc.two_volume_fsc(s3, s4_shift, r)\n",
    "c3 = fsc.two_volume_fsc(s5, s6_shift, r)\n",
    "\n",
    "c_avg = np.mean([c1, c2, c3], axis=0)\n",
    "\n",
    "freq = fsc.get_radial_spatial_frequencies(s1, 1)"
   ]
  },
  {
   "cell_type": "code",
   "execution_count": null,
   "id": "85d57b27-dd79-4a77-ba2a-4266392f3e69",
   "metadata": {},
   "outputs": [],
   "source": [
    "cmap_a = [plt.get_cmap('tab20c').colors[idx] for idx in [0, 4, 8, 12]]\n",
    "cmap_b = [plt.get_cmap('tab20c').colors[idx] for idx in [2, 6, 10, 12]]"
   ]
  },
  {
   "cell_type": "code",
   "execution_count": null,
   "id": "35e1c957-79c1-450f-911a-28bb9a819caa",
   "metadata": {},
   "outputs": [],
   "source": [
    "plt.plot(freq, c_avg)"
   ]
  },
  {
   "cell_type": "code",
   "execution_count": null,
   "id": "fc3caac5-26bf-46d8-aadd-f9acd02b82f5",
   "metadata": {},
   "outputs": [],
   "source": [
    "plt.figure(figsize=(7,4))\n",
    "# plt.plot(freq, c1, color=cmap_a[0], linewidth=2, label='split row')\n",
    "# plt.plot(freq, c3, color=cmap_a[2], linewidth=2, label='split layer')\n",
    "# plt.plot(freq, c2, color=cmap_a[3], linewidth=2, label='split column')\n",
    "plt.plot(freq, c_avg, color='k', linestyle='-', linewidth=2, label='average')\n",
    "plt.rc('axes', labelsize=12)\n",
    "plt.rc('xtick', labelsize=10)\n",
    "plt.rc('ytick', labelsize=10)\n",
    "plt.rc('legend', fontsize=11)\n",
    "plt.grid(which='major', linestyle='--')\n",
    "plt.xlabel('spatial frequency 'r'(${\\AA}^{-1}$)')\n",
    "plt.title('Fourier shell correlation')\n",
    "# plt.legend()\n",
    "# plt.savefig('')\n",
    "plt.show()"
   ]
  },
  {
   "cell_type": "code",
   "execution_count": null,
   "id": "338aa4a5-2a9f-4c42-8d0c-51991efa9169",
   "metadata": {},
   "outputs": [],
   "source": [
    "#import toupy"
   ]
  },
  {
   "cell_type": "code",
   "execution_count": null,
   "id": "725ce113-ef9b-4478-ab44-e4f4192ed6c0",
   "metadata": {},
   "outputs": [],
   "source": [
    "#toupy.resolution.FSC.FSCPlot(img1=half_volume1, img2=half_volume1, threshold='halfbit', ring_thick=1, apod_width=20)"
   ]
  },
  {
   "cell_type": "code",
   "execution_count": null,
   "id": "d07b591a-5b4b-4f63-abdd-dd1f970e86f0",
   "metadata": {},
   "outputs": [],
   "source": []
  }
 ],
 "metadata": {
  "kernelspec": {
   "display_name": "Python (OF3D)",
   "language": "python",
   "name": "of3d"
  },
  "language_info": {
   "codemirror_mode": {
    "name": "ipython",
    "version": 3
   },
   "file_extension": ".py",
   "mimetype": "text/x-python",
   "name": "python",
   "nbconvert_exporter": "python",
   "pygments_lexer": "ipython3",
   "version": "3.10.10"
  }
 },
 "nbformat": 4,
 "nbformat_minor": 5
}
